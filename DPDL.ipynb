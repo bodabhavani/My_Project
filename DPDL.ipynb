{
  "nbformat": 4,
  "nbformat_minor": 0,
  "metadata": {
    "colab": {
      "name": "DPDL.ipynb",
      "provenance": [],
      "collapsed_sections": [],
      "toc_visible": true,
      "mount_file_id": "1glR2P2_rge2-awVkASojcxzq1j3yywiL",
      "authorship_tag": "ABX9TyMc8+dYMGdQ4KKcVna66k0U",
      "include_colab_link": true
    },
    "kernelspec": {
      "name": "python3",
      "display_name": "Python 3"
    },
    "accelerator": "GPU"
  },
  "cells": [
    {
      "cell_type": "markdown",
      "metadata": {
        "id": "view-in-github",
        "colab_type": "text"
      },
      "source": [
        "<a href=\"https://colab.research.google.com/github/bodabhavani/My_Project/blob/master/DPDL.ipynb\" target=\"_parent\"><img src=\"https://colab.research.google.com/assets/colab-badge.svg\" alt=\"Open In Colab\"/></a>"
      ]
    },
    {
      "cell_type": "code",
      "metadata": {
        "id": "O7EVqZpjIm47",
        "colab_type": "code",
        "colab": {
          "base_uri": "https://localhost:8080/",
          "height": 55
        },
        "outputId": "d8e88351-85bf-4cd7-9b29-40cebcc8d0da"
      },
      "source": [
        "from google.colab import drive\n",
        "drive.mount('/content/drive')"
      ],
      "execution_count": 1,
      "outputs": [
        {
          "output_type": "stream",
          "text": [
            "Drive already mounted at /content/drive; to attempt to forcibly remount, call drive.mount(\"/content/drive\", force_remount=True).\n"
          ],
          "name": "stdout"
        }
      ]
    },
    {
      "cell_type": "code",
      "metadata": {
        "id": "OcuqQqMsIns8",
        "colab_type": "code",
        "colab": {}
      },
      "source": [
        "import numpy as np\n",
        "import pandas as pd\n",
        "import matplotlib.pyplot as plt\n",
        "from string import printable\n",
        "from keras.preprocessing import sequence\n",
        "from sklearn import model_selection\n",
        "from keras import regularizers\n",
        "from keras.layers import Input, LSTM, Embedding, Conv1D, MaxPooling1D, ELU, BatchNormalization\n",
        "from keras.layers.core import Dropout,Dense, Lambda\n",
        "from keras.models import Model\n",
        "from keras import backend as tf"
      ],
      "execution_count": 3,
      "outputs": []
    },
    {
      "cell_type": "code",
      "metadata": {
        "id": "UZQUgyHzIszZ",
        "colab_type": "code",
        "colab": {}
      },
      "source": [
        "data = pd.read_csv(\"/content/drive/My Drive/url_data.csv\")"
      ],
      "execution_count": 4,
      "outputs": []
    },
    {
      "cell_type": "code",
      "metadata": {
        "id": "bCcttT6aI0pH",
        "colab_type": "code",
        "colab": {
          "base_uri": "https://localhost:8080/",
          "height": 206
        },
        "outputId": "a69330db-c43f-48e5-9501-242fbe6a3bfc"
      },
      "source": [
        "data.head(5)"
      ],
      "execution_count": 5,
      "outputs": [
        {
          "output_type": "execute_result",
          "data": {
            "text/html": [
              "<div>\n",
              "<style scoped>\n",
              "    .dataframe tbody tr th:only-of-type {\n",
              "        vertical-align: middle;\n",
              "    }\n",
              "\n",
              "    .dataframe tbody tr th {\n",
              "        vertical-align: top;\n",
              "    }\n",
              "\n",
              "    .dataframe thead th {\n",
              "        text-align: right;\n",
              "    }\n",
              "</style>\n",
              "<table border=\"1\" class=\"dataframe\">\n",
              "  <thead>\n",
              "    <tr style=\"text-align: right;\">\n",
              "      <th></th>\n",
              "      <th>url</th>\n",
              "      <th>isMalicious</th>\n",
              "    </tr>\n",
              "  </thead>\n",
              "  <tbody>\n",
              "    <tr>\n",
              "      <th>0</th>\n",
              "      <td>imaging-resource.com/PRODS/olympus-e-m1-ii/oly...</td>\n",
              "      <td>0</td>\n",
              "    </tr>\n",
              "    <tr>\n",
              "      <th>1</th>\n",
              "      <td>gosugamers.net/lol/streams</td>\n",
              "      <td>0</td>\n",
              "    </tr>\n",
              "    <tr>\n",
              "      <th>2</th>\n",
              "      <td>thingiverse.com/corkyzett/collections/intlwome...</td>\n",
              "      <td>0</td>\n",
              "    </tr>\n",
              "    <tr>\n",
              "      <th>3</th>\n",
              "      <td>bausch.com/our-products/contact-lens-care/spec...</td>\n",
              "      <td>0</td>\n",
              "    </tr>\n",
              "    <tr>\n",
              "      <th>4</th>\n",
              "      <td>w88mobile.org/game/5151.html</td>\n",
              "      <td>0</td>\n",
              "    </tr>\n",
              "  </tbody>\n",
              "</table>\n",
              "</div>"
            ],
            "text/plain": [
              "                                                 url  isMalicious\n",
              "0  imaging-resource.com/PRODS/olympus-e-m1-ii/oly...            0\n",
              "1                         gosugamers.net/lol/streams            0\n",
              "2  thingiverse.com/corkyzett/collections/intlwome...            0\n",
              "3  bausch.com/our-products/contact-lens-care/spec...            0\n",
              "4                       w88mobile.org/game/5151.html            0"
            ]
          },
          "metadata": {
            "tags": []
          },
          "execution_count": 5
        }
      ]
    },
    {
      "cell_type": "code",
      "metadata": {
        "id": "0h9FYgKiI47R",
        "colab_type": "code",
        "colab": {}
      },
      "source": [
        "integer_enc = [[printable.index(x) + 1 for x in url if x in printable] for url in data.url]\n",
        "\n"
      ],
      "execution_count": 7,
      "outputs": []
    },
    {
      "cell_type": "code",
      "metadata": {
        "id": "sF3DJetIJHMA",
        "colab_type": "code",
        "colab": {
          "base_uri": "https://localhost:8080/",
          "height": 35
        },
        "outputId": "ee232ba0-630c-4bf7-aea6-e563fdf55313"
      },
      "source": [
        "type(integer_enc)"
      ],
      "execution_count": 8,
      "outputs": [
        {
          "output_type": "execute_result",
          "data": {
            "text/plain": [
              "list"
            ]
          },
          "metadata": {
            "tags": []
          },
          "execution_count": 8
        }
      ]
    },
    {
      "cell_type": "code",
      "metadata": {
        "id": "nO4PEM-qJ3gx",
        "colab_type": "code",
        "colab": {
          "base_uri": "https://localhost:8080/",
          "height": 1000
        },
        "outputId": "cf083415-257e-4cf4-e415-1d0fd17690ce"
      },
      "source": [
        "integer_enc[0]"
      ],
      "execution_count": 9,
      "outputs": [
        {
          "output_type": "execute_result",
          "data": {
            "text/plain": [
              "[19,\n",
              " 23,\n",
              " 11,\n",
              " 17,\n",
              " 19,\n",
              " 24,\n",
              " 17,\n",
              " 75,\n",
              " 28,\n",
              " 15,\n",
              " 29,\n",
              " 25,\n",
              " 31,\n",
              " 28,\n",
              " 13,\n",
              " 15,\n",
              " 76,\n",
              " 13,\n",
              " 25,\n",
              " 23,\n",
              " 77,\n",
              " 52,\n",
              " 54,\n",
              " 51,\n",
              " 40,\n",
              " 55,\n",
              " 77,\n",
              " 25,\n",
              " 22,\n",
              " 35,\n",
              " 23,\n",
              " 26,\n",
              " 31,\n",
              " 29,\n",
              " 75,\n",
              " 15,\n",
              " 75,\n",
              " 23,\n",
              " 2,\n",
              " 75,\n",
              " 19,\n",
              " 19,\n",
              " 77,\n",
              " 25,\n",
              " 22,\n",
              " 35,\n",
              " 23,\n",
              " 26,\n",
              " 31,\n",
              " 29,\n",
              " 75,\n",
              " 15,\n",
              " 75,\n",
              " 23,\n",
              " 2,\n",
              " 75,\n",
              " 19,\n",
              " 19,\n",
              " 37,\n",
              " 76,\n",
              " 44,\n",
              " 56,\n",
              " 49]"
            ]
          },
          "metadata": {
            "tags": []
          },
          "execution_count": 9
        }
      ]
    },
    {
      "cell_type": "code",
      "metadata": {
        "id": "qV5IAKaxJjy9",
        "colab_type": "code",
        "colab": {}
      },
      "source": [
        "len_of_url=200"
      ],
      "execution_count": 10,
      "outputs": []
    },
    {
      "cell_type": "code",
      "metadata": {
        "id": "1crYkd_AJons",
        "colab_type": "code",
        "colab": {}
      },
      "source": [
        "X = sequence.pad_sequences(integer_enc, maxlen=len_of_url)"
      ],
      "execution_count": 11,
      "outputs": []
    },
    {
      "cell_type": "code",
      "metadata": {
        "id": "Swgo6qx7KBC6",
        "colab_type": "code",
        "colab": {
          "base_uri": "https://localhost:8080/",
          "height": 35
        },
        "outputId": "aa114392-e0b0-4308-bb5c-a7f929dacc90"
      },
      "source": [
        "type(X)\n",
        "X.shape\n"
      ],
      "execution_count": 12,
      "outputs": [
        {
          "output_type": "execute_result",
          "data": {
            "text/plain": [
              "(194797, 200)"
            ]
          },
          "metadata": {
            "tags": []
          },
          "execution_count": 12
        }
      ]
    },
    {
      "cell_type": "code",
      "metadata": {
        "id": "twWFOp9LKH1t",
        "colab_type": "code",
        "colab": {
          "base_uri": "https://localhost:8080/",
          "height": 1000
        },
        "outputId": "9a383a7e-3f8f-4661-dcf3-0cd5684a140e"
      },
      "source": [
        "X[0:5]"
      ],
      "execution_count": 13,
      "outputs": [
        {
          "output_type": "execute_result",
          "data": {
            "text/plain": [
              "array([[ 0,  0,  0,  0,  0,  0,  0,  0,  0,  0,  0,  0,  0,  0,  0,  0,\n",
              "         0,  0,  0,  0,  0,  0,  0,  0,  0,  0,  0,  0,  0,  0,  0,  0,\n",
              "         0,  0,  0,  0,  0,  0,  0,  0,  0,  0,  0,  0,  0,  0,  0,  0,\n",
              "         0,  0,  0,  0,  0,  0,  0,  0,  0,  0,  0,  0,  0,  0,  0,  0,\n",
              "         0,  0,  0,  0,  0,  0,  0,  0,  0,  0,  0,  0,  0,  0,  0,  0,\n",
              "         0,  0,  0,  0,  0,  0,  0,  0,  0,  0,  0,  0,  0,  0,  0,  0,\n",
              "         0,  0,  0,  0,  0,  0,  0,  0,  0,  0,  0,  0,  0,  0,  0,  0,\n",
              "         0,  0,  0,  0,  0,  0,  0,  0,  0,  0,  0,  0,  0,  0,  0,  0,\n",
              "         0,  0,  0,  0,  0,  0,  0,  0,  0, 19, 23, 11, 17, 19, 24, 17,\n",
              "        75, 28, 15, 29, 25, 31, 28, 13, 15, 76, 13, 25, 23, 77, 52, 54,\n",
              "        51, 40, 55, 77, 25, 22, 35, 23, 26, 31, 29, 75, 15, 75, 23,  2,\n",
              "        75, 19, 19, 77, 25, 22, 35, 23, 26, 31, 29, 75, 15, 75, 23,  2,\n",
              "        75, 19, 19, 37, 76, 44, 56, 49],\n",
              "       [ 0,  0,  0,  0,  0,  0,  0,  0,  0,  0,  0,  0,  0,  0,  0,  0,\n",
              "         0,  0,  0,  0,  0,  0,  0,  0,  0,  0,  0,  0,  0,  0,  0,  0,\n",
              "         0,  0,  0,  0,  0,  0,  0,  0,  0,  0,  0,  0,  0,  0,  0,  0,\n",
              "         0,  0,  0,  0,  0,  0,  0,  0,  0,  0,  0,  0,  0,  0,  0,  0,\n",
              "         0,  0,  0,  0,  0,  0,  0,  0,  0,  0,  0,  0,  0,  0,  0,  0,\n",
              "         0,  0,  0,  0,  0,  0,  0,  0,  0,  0,  0,  0,  0,  0,  0,  0,\n",
              "         0,  0,  0,  0,  0,  0,  0,  0,  0,  0,  0,  0,  0,  0,  0,  0,\n",
              "         0,  0,  0,  0,  0,  0,  0,  0,  0,  0,  0,  0,  0,  0,  0,  0,\n",
              "         0,  0,  0,  0,  0,  0,  0,  0,  0,  0,  0,  0,  0,  0,  0,  0,\n",
              "         0,  0,  0,  0,  0,  0,  0,  0,  0,  0,  0,  0,  0,  0,  0,  0,\n",
              "         0,  0,  0,  0,  0,  0,  0,  0,  0,  0,  0,  0,  0,  0, 17, 25,\n",
              "        29, 31, 17, 11, 23, 15, 28, 29, 76, 24, 15, 30, 77, 22, 25, 22,\n",
              "        77, 29, 30, 28, 15, 11, 23, 29],\n",
              "       [ 0,  0,  0,  0,  0,  0,  0,  0,  0,  0,  0,  0,  0,  0,  0,  0,\n",
              "         0,  0,  0,  0,  0,  0,  0,  0,  0,  0,  0,  0,  0,  0,  0,  0,\n",
              "         0,  0,  0,  0,  0,  0,  0,  0,  0,  0,  0,  0,  0,  0,  0,  0,\n",
              "         0,  0,  0,  0,  0,  0,  0,  0,  0,  0,  0,  0,  0,  0,  0,  0,\n",
              "         0,  0,  0,  0,  0,  0,  0,  0,  0,  0,  0,  0,  0,  0,  0,  0,\n",
              "         0,  0,  0,  0,  0,  0,  0,  0,  0,  0,  0,  0,  0,  0,  0,  0,\n",
              "         0,  0,  0,  0,  0,  0,  0,  0,  0,  0,  0,  0,  0,  0,  0,  0,\n",
              "         0,  0,  0,  0,  0,  0,  0,  0,  0,  0,  0,  0,  0,  0,  0,  0,\n",
              "         0,  0,  0,  0,  0,  0,  0,  0,  0,  0,  0,  0,  0,  0,  0,  0,\n",
              "         0,  0,  0,  0,  0, 30, 18, 19, 24, 17, 19, 32, 15, 28, 29, 15,\n",
              "        76, 13, 25, 23, 77, 13, 25, 28, 21, 35, 36, 15, 30, 30, 77, 13,\n",
              "        25, 22, 22, 15, 13, 30, 19, 25, 24, 29, 77, 19, 24, 30, 22, 33,\n",
              "        25, 23, 15, 24, 29, 14, 11, 35],\n",
              "       [ 0,  0,  0,  0,  0,  0,  0,  0,  0,  0,  0,  0,  0,  0,  0,  0,\n",
              "         0,  0,  0,  0,  0,  0,  0,  0,  0,  0,  0,  0,  0,  0,  0,  0,\n",
              "         0,  0,  0,  0,  0,  0,  0,  0,  0,  0,  0,  0,  0,  0,  0,  0,\n",
              "         0,  0,  0,  0,  0,  0,  0,  0,  0,  0,  0,  0,  0,  0,  0,  0,\n",
              "         0,  0,  0,  0,  0,  0,  0,  0,  0,  0,  0,  0,  0,  0,  0,  0,\n",
              "         0,  0,  0,  0,  0,  0,  0,  0,  0,  0,  0,  0,  0,  0,  0,  0,\n",
              "         0,  0,  0,  0,  0,  0,  0,  0,  0,  0,  0,  0,  0,  0,  0,  0,\n",
              "         0,  0,  0,  0,  0,  0,  0,  0,  0,  0,  0,  0,  0,  0,  0,  0,\n",
              "         0,  0, 12, 11, 31, 29, 13, 18, 76, 13, 25, 23, 77, 25, 31, 28,\n",
              "        75, 26, 28, 25, 14, 31, 13, 30, 29, 77, 13, 25, 24, 30, 11, 13,\n",
              "        30, 75, 22, 15, 24, 29, 75, 13, 11, 28, 15, 77, 29, 26, 15, 13,\n",
              "        19, 11, 22, 30, 35, 75, 22, 15, 24, 29, 75, 13, 11, 28, 15, 75,\n",
              "        26, 28, 25, 14, 31, 13, 30, 29],\n",
              "       [ 0,  0,  0,  0,  0,  0,  0,  0,  0,  0,  0,  0,  0,  0,  0,  0,\n",
              "         0,  0,  0,  0,  0,  0,  0,  0,  0,  0,  0,  0,  0,  0,  0,  0,\n",
              "         0,  0,  0,  0,  0,  0,  0,  0,  0,  0,  0,  0,  0,  0,  0,  0,\n",
              "         0,  0,  0,  0,  0,  0,  0,  0,  0,  0,  0,  0,  0,  0,  0,  0,\n",
              "         0,  0,  0,  0,  0,  0,  0,  0,  0,  0,  0,  0,  0,  0,  0,  0,\n",
              "         0,  0,  0,  0,  0,  0,  0,  0,  0,  0,  0,  0,  0,  0,  0,  0,\n",
              "         0,  0,  0,  0,  0,  0,  0,  0,  0,  0,  0,  0,  0,  0,  0,  0,\n",
              "         0,  0,  0,  0,  0,  0,  0,  0,  0,  0,  0,  0,  0,  0,  0,  0,\n",
              "         0,  0,  0,  0,  0,  0,  0,  0,  0,  0,  0,  0,  0,  0,  0,  0,\n",
              "         0,  0,  0,  0,  0,  0,  0,  0,  0,  0,  0,  0,  0,  0,  0,  0,\n",
              "         0,  0,  0,  0,  0,  0,  0,  0,  0,  0,  0,  0, 33,  9,  9, 23,\n",
              "        25, 12, 19, 22, 15, 76, 25, 28, 17, 77, 17, 11, 23, 15, 77,  6,\n",
              "         2,  6,  2, 76, 18, 30, 23, 22]], dtype=int32)"
            ]
          },
          "metadata": {
            "tags": []
          },
          "execution_count": 13
        }
      ]
    },
    {
      "cell_type": "code",
      "metadata": {
        "id": "HHeg-ZJYJv67",
        "colab_type": "code",
        "colab": {}
      },
      "source": [
        "\n",
        "labels = np.array(data.isMalicious)\n"
      ],
      "execution_count": 17,
      "outputs": []
    },
    {
      "cell_type": "code",
      "metadata": {
        "id": "x1S07s77Kb9g",
        "colab_type": "code",
        "colab": {
          "base_uri": "https://localhost:8080/",
          "height": 35
        },
        "outputId": "30b538c3-0cdc-4098-c78a-7c7814b506b8"
      },
      "source": [
        "type(labels)"
      ],
      "execution_count": 18,
      "outputs": [
        {
          "output_type": "execute_result",
          "data": {
            "text/plain": [
              "numpy.ndarray"
            ]
          },
          "metadata": {
            "tags": []
          },
          "execution_count": 18
        }
      ]
    },
    {
      "cell_type": "code",
      "metadata": {
        "id": "VRjIAx0xKEUn",
        "colab_type": "code",
        "colab": {
          "base_uri": "https://localhost:8080/",
          "height": 35
        },
        "outputId": "c8fa322c-2828-49e8-e672-f8d16cfe2996"
      },
      "source": [
        "print('Shape of input: ', X.shape, ' Shape of Label: ', labels.shape)"
      ],
      "execution_count": 19,
      "outputs": [
        {
          "output_type": "stream",
          "text": [
            "Shape of input:  (194797, 200)  Shape of Label:  (194797,)\n"
          ],
          "name": "stdout"
        }
      ]
    },
    {
      "cell_type": "code",
      "metadata": {
        "id": "eLPYkY7QKHZ6",
        "colab_type": "code",
        "colab": {}
      },
      "source": [
        "X_train, X_test, Y_train, Y_test = model_selection.train_test_split(X, labels, test_size=0.25)"
      ],
      "execution_count": 20,
      "outputs": []
    },
    {
      "cell_type": "code",
      "metadata": {
        "id": "huXfitUxKwzS",
        "colab_type": "code",
        "colab": {
          "base_uri": "https://localhost:8080/",
          "height": 237
        },
        "outputId": "12733075-ccb2-4198-f8a2-cdb1a12ebfb7"
      },
      "source": [
        "  X_train[0]"
      ],
      "execution_count": 21,
      "outputs": [
        {
          "output_type": "execute_result",
          "data": {
            "text/plain": [
              "array([ 0,  0,  0,  0,  0,  0,  0,  0,  0,  0,  0,  0,  0,  0,  0,  0,  0,\n",
              "        0,  0,  0,  0,  0,  0,  0,  0,  0,  0,  0,  0,  0,  0,  0,  0,  0,\n",
              "        0,  0,  0,  0,  0,  0,  0,  0,  0,  0,  0,  0,  0,  0,  0,  0,  0,\n",
              "        0,  0,  0,  0,  0,  0,  0,  0,  0,  0,  0,  0,  0,  0,  0,  0,  0,\n",
              "        0,  0,  0,  0,  0,  0,  0,  0,  0,  0,  0,  0,  0,  0,  0,  0,  0,\n",
              "        0,  0,  0,  0,  0,  0,  0,  0,  0,  0,  0,  0,  0,  0,  0,  0,  0,\n",
              "        0,  0,  0,  0,  0,  0,  0,  0,  0,  0,  0,  0,  0,  0,  0,  0,  0,\n",
              "        0,  0,  0,  0,  0,  0,  0,  0,  0,  0,  0,  0,  0,  0,  0,  0,  0,\n",
              "        0,  0,  0,  0,  0,  0,  0,  0,  0,  0,  0,  0,  0,  0,  0,  0,  0,\n",
              "        0,  0,  0,  0,  0,  0,  0,  0,  0,  0,  0,  0,  0,  0,  0,  0, 35,\n",
              "       26, 23, 76, 23, 15, 77, 11, 14, 23, 19, 24,  3, 77, 16, 31, 24, 13,\n",
              "       30, 19, 25, 24, 29, 77, 11, 26, 19, 77, 11, 26, 19], dtype=int32)"
            ]
          },
          "metadata": {
            "tags": []
          },
          "execution_count": 21
        }
      ]
    },
    {
      "cell_type": "code",
      "metadata": {
        "id": "KFFO-gmlKisD",
        "colab_type": "code",
        "colab": {}
      },
      "source": [
        "def lstm_model():\n",
        "    input_layer = Input(shape=(len_of_url,), dtype='int32', name='main_input')\n",
        "    embed = Embedding(input_dim=100, output_dim=512, input_length=len_of_url)(input_layer) \n",
        "    lstm = LSTM(32)(embed)\n",
        "    lstm = Dropout(0.5)(lstm)\n",
        "    output_layer = Dense(1, activation='sigmoid', name='output')(lstm)\n",
        "    model_lstm = Model(input=[input_layer], output=[output_layer])\n",
        "    model_lstm.compile(optimizer='adam', loss='binary_crossentropy', metrics=['accuracy'])\n",
        "    return model_lstm"
      ],
      "execution_count": 25,
      "outputs": []
    },
    {
      "cell_type": "code",
      "metadata": {
        "id": "AB0KTP2i1Hci",
        "colab_type": "code",
        "colab": {
          "base_uri": "https://localhost:8080/",
          "height": 533
        },
        "outputId": "ced3129f-9cda-4513-bb79-23201b462638"
      },
      "source": [
        "model1 = lstm_model()\n",
        "history = model1.fit(X_train,Y_train,validation_split=0.33,epochs = 10,batch_size = 1000)\n",
        "loss, acc1 = model1.evaluate(X_test,Y_test,verbose = 1)\n",
        "print(history.history.keys())\n"
      ],
      "execution_count": 27,
      "outputs": [
        {
          "output_type": "stream",
          "text": [
            "/usr/local/lib/python3.6/dist-packages/ipykernel_launcher.py:7: UserWarning: Update your `Model` call to the Keras 2 API: `Model(inputs=[<tf.Tenso..., outputs=[<tf.Tenso...)`\n",
            "  import sys\n",
            "/usr/local/lib/python3.6/dist-packages/tensorflow/python/framework/indexed_slices.py:434: UserWarning: Converting sparse IndexedSlices to a dense Tensor of unknown shape. This may consume a large amount of memory.\n",
            "  \"Converting sparse IndexedSlices to a dense Tensor of unknown shape. \"\n"
          ],
          "name": "stderr"
        },
        {
          "output_type": "stream",
          "text": [
            "Train on 97884 samples, validate on 48213 samples\n",
            "Epoch 1/10\n",
            "97884/97884 [==============================] - 38s 383us/step - loss: 0.4911 - accuracy: 0.7709 - val_loss: 0.3839 - val_accuracy: 0.8314\n",
            "Epoch 2/10\n",
            "97884/97884 [==============================] - 37s 376us/step - loss: 0.3643 - accuracy: 0.8466 - val_loss: 0.3248 - val_accuracy: 0.8608\n",
            "Epoch 3/10\n",
            "97884/97884 [==============================] - 37s 382us/step - loss: 0.3177 - accuracy: 0.8694 - val_loss: 0.2899 - val_accuracy: 0.8788\n",
            "Epoch 4/10\n",
            "97884/97884 [==============================] - 37s 377us/step - loss: 0.2957 - accuracy: 0.8802 - val_loss: 0.2693 - val_accuracy: 0.8875\n",
            "Epoch 5/10\n",
            "97884/97884 [==============================] - 36s 372us/step - loss: 0.2750 - accuracy: 0.8892 - val_loss: 0.2619 - val_accuracy: 0.8930\n",
            "Epoch 6/10\n",
            "97884/97884 [==============================] - 37s 373us/step - loss: 0.2633 - accuracy: 0.8941 - val_loss: 0.2451 - val_accuracy: 0.8990\n",
            "Epoch 7/10\n",
            "97884/97884 [==============================] - 36s 371us/step - loss: 0.2441 - accuracy: 0.9025 - val_loss: 0.2284 - val_accuracy: 0.9056\n",
            "Epoch 8/10\n",
            "97884/97884 [==============================] - 37s 377us/step - loss: 0.2373 - accuracy: 0.9057 - val_loss: 0.2214 - val_accuracy: 0.9096\n",
            "Epoch 9/10\n",
            "97884/97884 [==============================] - 36s 368us/step - loss: 0.2282 - accuracy: 0.9091 - val_loss: 0.2126 - val_accuracy: 0.9129\n",
            "Epoch 10/10\n",
            "97884/97884 [==============================] - 36s 372us/step - loss: 0.2153 - accuracy: 0.9143 - val_loss: 0.2087 - val_accuracy: 0.9148\n",
            "48700/48700 [==============================] - 46s 952us/step\n",
            "dict_keys(['val_loss', 'val_accuracy', 'loss', 'accuracy'])\n"
          ],
          "name": "stdout"
        }
      ]
    },
    {
      "cell_type": "code",
      "metadata": {
        "id": "v5VK4LT_Px_M",
        "colab_type": "code",
        "colab": {
          "base_uri": "https://localhost:8080/",
          "height": 295
        },
        "outputId": "1d269e96-2952-4af3-9cb5-c4160bfe23ba"
      },
      "source": [
        "plt.plot(history.history['accuracy'])\n",
        "plt.plot(history.history['val_accuracy'])\n",
        "plt.title('lstm model accuracy')\n",
        "plt.xlabel('epoch')\n",
        "plt.ylabel('accuracy')\n",
        "plt.legend(['train', 'test'], loc='upper left')\n",
        "plt.show()\n"
      ],
      "execution_count": 28,
      "outputs": [
        {
          "output_type": "display_data",
          "data": {
            "image/png": "[encoded data removed]",
            "text/plain": [
              "<Figure size 432x288 with 1 Axes>"
            ]
          },
          "metadata": {
            "tags": [],
            "needs_background": "light"
          }
        }
      ]
    },
    {
      "cell_type": "code",
      "metadata": {
        "id": "G4y8M6MSSC9f",
        "colab_type": "code",
        "colab": {
          "base_uri": "https://localhost:8080/",
          "height": 295
        },
        "outputId": "073ce343-a4a9-4f86-e5af-9ee6b256185f"
      },
      "source": [
        "plt.plot(history.history['loss'])\n",
        "plt.plot(history.history['val_loss'])\n",
        "plt.title('lstm model loss')\n",
        "plt.ylabel('loss')\n",
        "plt.xlabel('epoch')\n",
        "plt.legend(['train', 'test'], loc='upper left')\n",
        "plt.show()"
      ],
      "execution_count": 29,
      "outputs": [
        {
          "output_type": "display_data",
          "data": {
            "image/png": "[encoded data removed]",
            "text/plain": [
              "<Figure size 432x288 with 1 Axes>"
            ]
          },
          "metadata": {
            "tags": [],
            "needs_background": "light"
          }
        }
      ]
    },
    {
      "cell_type": "code",
      "metadata": {
        "id": "W6WJY2OGP0Y4",
        "colab_type": "code",
        "colab": {
          "base_uri": "https://localhost:8080/",
          "height": 403
        },
        "outputId": "b6ddafe0-3817-46c3-cc43-13e3d1f60299"
      },
      "source": [
        "model1.summary()\n",
        "print('\\nFinal Accuracy', acc1, '\\n')\n"
      ],
      "execution_count": 30,
      "outputs": [
        {
          "output_type": "stream",
          "text": [
            "Model: \"model_2\"\n",
            "_________________________________________________________________\n",
            "Layer (type)                 Output Shape              Param #   \n",
            "=================================================================\n",
            "main_input (InputLayer)      (None, 200)               0         \n",
            "_________________________________________________________________\n",
            "embedding_2 (Embedding)      (None, 200, 512)          51200     \n",
            "_________________________________________________________________\n",
            "lstm_2 (LSTM)                (None, 32)                69760     \n",
            "_________________________________________________________________\n",
            "dropout_2 (Dropout)          (None, 32)                0         \n",
            "_________________________________________________________________\n",
            "output (Dense)               (None, 1)                 33        \n",
            "=================================================================\n",
            "Total params: 120,993\n",
            "Trainable params: 120,993\n",
            "Non-trainable params: 0\n",
            "_________________________________________________________________\n",
            "\n",
            "Final Accuracy 0.913408637046814 \n",
            "\n"
          ],
          "name": "stdout"
        }
      ]
    },
    {
      "cell_type": "code",
      "metadata": {
        "id": "B9kJwuXc8UoT",
        "colab_type": "code",
        "colab": {}
      },
      "source": [
        "def conv_lstm():\n",
        "  input_layer = Input(shape = (len_of_url,),dtype = 'int32', name = 'input')\n",
        "  embed_layer = Embedding(input_dim = 100,output_dim = 512, input_length = 200)(input_layer)\n",
        "  embed_layer = Dropout(0.25)(embed_layer)\n",
        "  conv_layer = Conv1D(kernel_size = 5,filters = 256,border_mode = 'same')(embed_layer)\n",
        "  conv_layer = ELU()(conv_layer)\n",
        "  conv_layer = MaxPooling1D(pool_size = 4)(conv_layer)\n",
        "  conv_layer = Dropout(0.5)(conv_layer)\n",
        "  lstm_layer = LSTM(64, activation = \"tanh\")(conv_layer)\n",
        "  lstm_layer = Dropout(0.5)(lstm_layer)\n",
        "  output_layer = Dense(1,activation = 'sigmoid',name= 'output')(lstm_layer)\n",
        "  model2 =Model(input = [input_layer],output = [output_layer])\n",
        "  model2.compile(optimizer = 'adam', loss = 'binary_crossentropy', metrics = ['accuracy'])\n",
        "  return model2"
      ],
      "execution_count": 32,
      "outputs": []
    },
    {
      "cell_type": "code",
      "metadata": {
        "id": "5x9bFuUK_OhL",
        "colab_type": "code",
        "colab": {
          "base_uri": "https://localhost:8080/",
          "height": 955
        },
        "outputId": "aaef5218-7c90-4334-9063-7b0bc0e2d9df"
      },
      "source": [
        "\n",
        "model2 = conv_lstm()\n",
        "history = model2.fit(X_train, Y_train,validation_split=0.33,epochs = 20,batch_size = 1000)\n",
        "loss, acc2 = model2.evaluate(X_test,Y_test,verbose = 1)\n",
        "print('Accuracy of hybrid model', acc2, '\\n')"
      ],
      "execution_count": 33,
      "outputs": [
        {
          "output_type": "stream",
          "text": [
            "/usr/local/lib/python3.6/dist-packages/ipykernel_launcher.py:5: UserWarning: Update your `Conv1D` call to the Keras 2 API: `Conv1D(kernel_size=5, filters=256, padding=\"same\")`\n",
            "  \"\"\"\n",
            "/usr/local/lib/python3.6/dist-packages/ipykernel_launcher.py:12: UserWarning: Update your `Model` call to the Keras 2 API: `Model(inputs=[<tf.Tenso..., outputs=[<tf.Tenso...)`\n",
            "  if sys.path[0] == '':\n",
            "/usr/local/lib/python3.6/dist-packages/tensorflow/python/framework/indexed_slices.py:434: UserWarning: Converting sparse IndexedSlices to a dense Tensor of unknown shape. This may consume a large amount of memory.\n",
            "  \"Converting sparse IndexedSlices to a dense Tensor of unknown shape. \"\n"
          ],
          "name": "stderr"
        },
        {
          "output_type": "stream",
          "text": [
            "Train on 97884 samples, validate on 48213 samples\n",
            "Epoch 1/20\n",
            "97884/97884 [==============================] - 40s 412us/step - loss: 0.3900 - accuracy: 0.8221 - val_loss: 0.2545 - val_accuracy: 0.8963\n",
            "Epoch 2/20\n",
            "97884/97884 [==============================] - 31s 316us/step - loss: 0.2372 - accuracy: 0.9053 - val_loss: 0.1932 - val_accuracy: 0.9209\n",
            "Epoch 3/20\n",
            "97884/97884 [==============================] - 31s 320us/step - loss: 0.1972 - accuracy: 0.9228 - val_loss: 0.1637 - val_accuracy: 0.9360\n",
            "Epoch 4/20\n",
            "97884/97884 [==============================] - 31s 320us/step - loss: 0.1778 - accuracy: 0.9308 - val_loss: 0.1512 - val_accuracy: 0.9416\n",
            "Epoch 5/20\n",
            "97884/97884 [==============================] - 31s 318us/step - loss: 0.1664 - accuracy: 0.9355 - val_loss: 0.1465 - val_accuracy: 0.9437\n",
            "Epoch 6/20\n",
            "97884/97884 [==============================] - 31s 321us/step - loss: 0.1525 - accuracy: 0.9400 - val_loss: 0.1451 - val_accuracy: 0.9446\n",
            "Epoch 7/20\n",
            "97884/97884 [==============================] - 31s 319us/step - loss: 0.1447 - accuracy: 0.9454 - val_loss: 0.1338 - val_accuracy: 0.9485\n",
            "Epoch 8/20\n",
            "97884/97884 [==============================] - 31s 319us/step - loss: 0.1380 - accuracy: 0.9458 - val_loss: 0.1319 - val_accuracy: 0.9494\n",
            "Epoch 9/20\n",
            "97884/97884 [==============================] - 31s 317us/step - loss: 0.1313 - accuracy: 0.9489 - val_loss: 0.1334 - val_accuracy: 0.9478\n",
            "Epoch 10/20\n",
            "97884/97884 [==============================] - 31s 316us/step - loss: 0.1283 - accuracy: 0.9499 - val_loss: 0.1220 - val_accuracy: 0.9528\n",
            "Epoch 11/20\n",
            "97884/97884 [==============================] - 31s 318us/step - loss: 0.1269 - accuracy: 0.9502 - val_loss: 0.1293 - val_accuracy: 0.9505\n",
            "Epoch 12/20\n",
            "97884/97884 [==============================] - 31s 318us/step - loss: 0.1224 - accuracy: 0.9524 - val_loss: 0.1231 - val_accuracy: 0.9533\n",
            "Epoch 13/20\n",
            "97884/97884 [==============================] - 31s 315us/step - loss: 0.1163 - accuracy: 0.9549 - val_loss: 0.1286 - val_accuracy: 0.9509\n",
            "Epoch 14/20\n",
            "97884/97884 [==============================] - 31s 316us/step - loss: 0.1175 - accuracy: 0.9542 - val_loss: 0.1201 - val_accuracy: 0.9550\n",
            "Epoch 15/20\n",
            "97884/97884 [==============================] - 31s 315us/step - loss: 0.1127 - accuracy: 0.9561 - val_loss: 0.1193 - val_accuracy: 0.9557\n",
            "Epoch 16/20\n",
            "97884/97884 [==============================] - 31s 317us/step - loss: 0.1087 - accuracy: 0.9581 - val_loss: 0.1242 - val_accuracy: 0.9530\n",
            "Epoch 17/20\n",
            "97884/97884 [==============================] - 31s 315us/step - loss: 0.1062 - accuracy: 0.9591 - val_loss: 0.1171 - val_accuracy: 0.9559\n",
            "Epoch 18/20\n",
            "97884/97884 [==============================] - 31s 314us/step - loss: 0.1043 - accuracy: 0.9589 - val_loss: 0.1156 - val_accuracy: 0.9567\n",
            "Epoch 19/20\n",
            "97884/97884 [==============================] - 31s 313us/step - loss: 0.1018 - accuracy: 0.9607 - val_loss: 0.1141 - val_accuracy: 0.9573\n",
            "Epoch 20/20\n",
            "97884/97884 [==============================] - 31s 315us/step - loss: 0.1000 - accuracy: 0.9611 - val_loss: 0.1197 - val_accuracy: 0.9560\n",
            "48700/48700 [==============================] - 13s 275us/step\n",
            "Accuracy of hybrid model 0.9555031061172485 \n",
            "\n"
          ],
          "name": "stdout"
        }
      ]
    },
    {
      "cell_type": "code",
      "metadata": {
        "id": "W6FkQSdLTGkB",
        "colab_type": "code",
        "colab": {
          "base_uri": "https://localhost:8080/",
          "height": 295
        },
        "outputId": "15737a71-7a2d-4987-f7d3-6bfbe0e39114"
      },
      "source": [
        "plt.plot(history.history['accuracy'])\n",
        "plt.plot(history.history['val_accuracy'])\n",
        "plt.title('cnn-lstm model accuracy')\n",
        "plt.xlabel('epoch')\n",
        "plt.ylabel('accuracy')\n",
        "plt.legend(['train', 'test'], loc='upper left')\n",
        "plt.show()"
      ],
      "execution_count": 38,
      "outputs": [
        {
          "output_type": "display_data",
          "data": {
            "image/png": "[encoded data removed]",
            "text/plain": [
              "<Figure size 432x288 with 1 Axes>"
            ]
          },
          "metadata": {
            "tags": [],
            "needs_background": "light"
          }
        }
      ]
    },
    {
      "cell_type": "code",
      "metadata": {
        "id": "Pkj4iKt-TL3_",
        "colab_type": "code",
        "colab": {
          "base_uri": "https://localhost:8080/",
          "height": 295
        },
        "outputId": "6ec1b938-814b-47a7-e35e-5bd396e7701b"
      },
      "source": [
        "plt.plot(history.history['loss'])\n",
        "plt.plot(history.history['val_loss'])\n",
        "plt.title('cnn-lstm model loss')\n",
        "plt.ylabel('loss')\n",
        "plt.xlabel('epoch')\n",
        "plt.legend(['train', 'test'], loc='upper left')\n",
        "plt.show()"
      ],
      "execution_count": 39,
      "outputs": [
        {
          "output_type": "display_data",
          "data": {
            "image/png": "[encoded data removed]",
            "text/plain": [
              "<Figure size 432x288 with 1 Axes>"
            ]
          },
          "metadata": {
            "tags": [],
            "needs_background": "light"
          }
        }
      ]
    },
    {
      "cell_type": "code",
      "metadata": {
        "id": "Agi5JdfnbANy",
        "colab_type": "code",
        "colab": {
          "base_uri": "https://localhost:8080/",
          "height": 586
        },
        "outputId": "75591462-92db-47bc-e588-8236e58ee38c"
      },
      "source": [
        "model2.summary()\n",
        "print('\\nFinal Accuracy', acc2, '\\n')"
      ],
      "execution_count": 40,
      "outputs": [
        {
          "output_type": "stream",
          "text": [
            "Model: \"model_3\"\n",
            "_________________________________________________________________\n",
            "Layer (type)                 Output Shape              Param #   \n",
            "=================================================================\n",
            "input (InputLayer)           (None, 200)               0         \n",
            "_________________________________________________________________\n",
            "embedding_3 (Embedding)      (None, 200, 512)          51200     \n",
            "_________________________________________________________________\n",
            "dropout_3 (Dropout)          (None, 200, 512)          0         \n",
            "_________________________________________________________________\n",
            "conv1d_1 (Conv1D)            (None, 200, 256)          655616    \n",
            "_________________________________________________________________\n",
            "elu_1 (ELU)                  (None, 200, 256)          0         \n",
            "_________________________________________________________________\n",
            "max_pooling1d_1 (MaxPooling1 (None, 50, 256)           0         \n",
            "_________________________________________________________________\n",
            "dropout_4 (Dropout)          (None, 50, 256)           0         \n",
            "_________________________________________________________________\n",
            "lstm_3 (LSTM)                (None, 64)                82176     \n",
            "_________________________________________________________________\n",
            "dropout_5 (Dropout)          (None, 64)                0         \n",
            "_________________________________________________________________\n",
            "output (Dense)               (None, 1)                 65        \n",
            "=================================================================\n",
            "Total params: 789,057\n",
            "Trainable params: 789,057\n",
            "Non-trainable params: 0\n",
            "_________________________________________________________________\n",
            "\n",
            "Final Accuracy 0.9555031061172485 \n",
            "\n"
          ],
          "name": "stdout"
        }
      ]
    },
    {
      "cell_type": "code",
      "metadata": {
        "id": "V7zBeau4ARrQ",
        "colab_type": "code",
        "colab": {}
      },
      "source": [
        "def conv_model():\n",
        "    input_layer = Input(shape=(len_of_url,), dtype='int32', name='input')\n",
        "    embed = Embedding(input_dim=100, output_dim=512, input_length=len_of_url)(input_layer) \n",
        "    embed = Dropout(0.25)(embed)\n",
        "    def comp(X):\n",
        "        return tf.sum(X, axis=1)\n",
        "    conv = Conv1D(kernel_size = 4, filters = 256)(embed)\n",
        "    conv = Lambda(comp, output_shape=(256,))(conv)\n",
        "    conv = Dropout(0.5)(conv)\n",
        "    \n",
        "    hidden = Dense(1024)(conv)\n",
        "    hidden = ELU()(hidden)\n",
        "    hidden = Dropout(0.5)(hidden)\n",
        "    output_layer = Dense(1, activation='sigmoid', name='output')(hidden)\n",
        "    \n",
        "    model_conv = Model(input=[input_layer], output=[output_layer])\n",
        "    model_conv.compile(optimizer='adam', loss='binary_crossentropy', metrics=['accuracy'])\n",
        "    return model_conv\n",
        "\n",
        "    \n",
        "    \n",
        "    \n",
        "    \n",
        "\n",
        "    \n"
      ],
      "execution_count": 43,
      "outputs": []
    },
    {
      "cell_type": "code",
      "metadata": {
        "id": "iJB-x4xWclxc",
        "colab_type": "code",
        "colab": {
          "base_uri": "https://localhost:8080/",
          "height": 1000
        },
        "outputId": "b05c54b1-dbe8-4bf0-e002-ff025dc63788"
      },
      "source": [
        "\n",
        "model3 = conv_model()\n",
        "history = model3.fit(X_train, Y_train,validation_split=0.33, epochs=10, batch_size=1000)\n",
        "loss, acc3 = model3.evaluate(X_test, Y_test, verbose=1)\n",
        "print(history.history.keys())\n",
        "\n",
        "model3.summary()\n",
        "print('\\nAccuracy of conv model', acc3, '\\n')\n"
      ],
      "execution_count": 44,
      "outputs": [
        {
          "output_type": "stream",
          "text": [
            "/usr/local/lib/python3.6/dist-packages/ipykernel_launcher.py:16: UserWarning: Update your `Model` call to the Keras 2 API: `Model(inputs=[<tf.Tenso..., outputs=[<tf.Tenso...)`\n",
            "  app.launch_new_instance()\n",
            "/usr/local/lib/python3.6/dist-packages/tensorflow/python/framework/indexed_slices.py:434: UserWarning: Converting sparse IndexedSlices to a dense Tensor of unknown shape. This may consume a large amount of memory.\n",
            "  \"Converting sparse IndexedSlices to a dense Tensor of unknown shape. \"\n"
          ],
          "name": "stderr"
        },
        {
          "output_type": "stream",
          "text": [
            "Train on 97884 samples, validate on 48213 samples\n",
            "Epoch 1/10\n",
            "97884/97884 [==============================] - 25s 254us/step - loss: 1.4664 - accuracy: 0.6026 - val_loss: 0.5105 - val_accuracy: 0.7379\n",
            "Epoch 2/10\n",
            "97884/97884 [==============================] - 21s 219us/step - loss: 0.5857 - accuracy: 0.6966 - val_loss: 0.4822 - val_accuracy: 0.7635\n",
            "Epoch 3/10\n",
            "97884/97884 [==============================] - 21s 215us/step - loss: 0.5377 - accuracy: 0.7288 - val_loss: 0.4660 - val_accuracy: 0.7724\n",
            "Epoch 4/10\n",
            "97884/97884 [==============================] - 21s 219us/step - loss: 0.5062 - accuracy: 0.7485 - val_loss: 0.4441 - val_accuracy: 0.7862\n",
            "Epoch 5/10\n",
            "97884/97884 [==============================] - 22s 221us/step - loss: 0.4760 - accuracy: 0.7704 - val_loss: 0.4362 - val_accuracy: 0.7907\n",
            "Epoch 6/10\n",
            "97884/97884 [==============================] - 21s 219us/step - loss: 0.4594 - accuracy: 0.7816 - val_loss: 0.4267 - val_accuracy: 0.7968\n",
            "Epoch 7/10\n",
            "97884/97884 [==============================] - 21s 218us/step - loss: 0.4462 - accuracy: 0.7895 - val_loss: 0.4144 - val_accuracy: 0.8089\n",
            "Epoch 8/10\n",
            "97884/97884 [==============================] - 21s 220us/step - loss: 0.4370 - accuracy: 0.7956 - val_loss: 0.3953 - val_accuracy: 0.8166\n",
            "Epoch 9/10\n",
            "97884/97884 [==============================] - 22s 220us/step - loss: 0.4297 - accuracy: 0.8007 - val_loss: 0.4039 - val_accuracy: 0.8091\n",
            "Epoch 10/10\n",
            "97884/97884 [==============================] - 21s 219us/step - loss: 0.4267 - accuracy: 0.8030 - val_loss: 0.3978 - val_accuracy: 0.8184\n",
            "48700/48700 [==============================] - 4s 90us/step\n",
            "dict_keys(['val_loss', 'val_accuracy', 'loss', 'accuracy'])\n",
            "Model: \"model_4\"\n",
            "_________________________________________________________________\n",
            "Layer (type)                 Output Shape              Param #   \n",
            "=================================================================\n",
            "input (InputLayer)           (None, 200)               0         \n",
            "_________________________________________________________________\n",
            "embedding_4 (Embedding)      (None, 200, 512)          51200     \n",
            "_________________________________________________________________\n",
            "dropout_6 (Dropout)          (None, 200, 512)          0         \n",
            "_________________________________________________________________\n",
            "conv1d_2 (Conv1D)            (None, 197, 256)          524544    \n",
            "_________________________________________________________________\n",
            "lambda_1 (Lambda)            (None, 256)               0         \n",
            "_________________________________________________________________\n",
            "dropout_7 (Dropout)          (None, 256)               0         \n",
            "_________________________________________________________________\n",
            "dense_1 (Dense)              (None, 1024)              263168    \n",
            "_________________________________________________________________\n",
            "elu_2 (ELU)                  (None, 1024)              0         \n",
            "_________________________________________________________________\n",
            "dropout_8 (Dropout)          (None, 1024)              0         \n",
            "_________________________________________________________________\n",
            "output (Dense)               (None, 1)                 1025      \n",
            "=================================================================\n",
            "Total params: 839,937\n",
            "Trainable params: 839,937\n",
            "Non-trainable params: 0\n",
            "_________________________________________________________________\n",
            "\n",
            "Accuracy of conv model 0.8174743056297302 \n",
            "\n"
          ],
          "name": "stdout"
        }
      ]
    },
    {
      "cell_type": "code",
      "metadata": {
        "id": "BAfYQc0KjQvq",
        "colab_type": "code",
        "colab": {
          "base_uri": "https://localhost:8080/",
          "height": 295
        },
        "outputId": "e80ac207-5205-474f-8d61-aeb2fda8da69"
      },
      "source": [
        "plt.plot(history.history['accuracy'])\n",
        "plt.plot(history.history['val_accuracy'])\n",
        "plt.title('cnn model accuracy')\n",
        "plt.xlabel('epoch')\n",
        "plt.ylabel('accuracy')\n",
        "plt.legend(['train', 'test'], loc='upper left')\n",
        "plt.show()"
      ],
      "execution_count": 45,
      "outputs": [
        {
          "output_type": "display_data",
          "data": {
            "image/png": "[encoded data removed]",
            "text/plain": [
              "<Figure size 432x288 with 1 Axes>"
            ]
          },
          "metadata": {
            "tags": [],
            "needs_background": "light"
          }
        }
      ]
    },
    {
      "cell_type": "code",
      "metadata": {
        "id": "honDJTGCUBP2",
        "colab_type": "code",
        "colab": {
          "base_uri": "https://localhost:8080/",
          "height": 295
        },
        "outputId": "b5021cb8-187c-4aa0-8b5b-4b92a54190e2"
      },
      "source": [
        "plt.plot(history.history['loss'])\n",
        "plt.plot(history.history['val_loss'])\n",
        "plt.title('cnn model loss')\n",
        "plt.ylabel('loss')\n",
        "plt.xlabel('epoch')\n",
        "plt.legend(['train', 'test'], loc='upper left')\n",
        "plt.show()"
      ],
      "execution_count": 46,
      "outputs": [
        {
          "output_type": "display_data",
          "data": {
            "image/png": "[encoded data removed]",
            "text/plain": [
              "<Figure size 432x288 with 1 Axes>"
            ]
          },
          "metadata": {
            "tags": [],
            "needs_background": "light"
          }
        }
      ]
    },
    {
      "cell_type": "code",
      "metadata": {
        "id": "ZeF_WD-xRMYg",
        "colab_type": "code",
        "colab": {
          "base_uri": "https://localhost:8080/",
          "height": 295
        },
        "outputId": "fbf5a521-2821-4b57-8d05-b453ea96651f"
      },
      "source": [
        "names = [\"LSTM\",\"CNN-LSTM\",\"CNN\"]\n",
        "results = [round(acc1*100),round(acc2*100),round(acc3*100)]\n",
        "plt.title(\"Accuracy of three models on the dataset\")\n",
        "plt.xlabel(\"Accuracy\")\n",
        "plt.xlim(0,100)\n",
        "plt.barh(names,results)\n",
        "for index, value in enumerate(results):\n",
        "\n",
        "    plt.text(value, index, str(value))\n",
        "\n",
        "\n",
        "\n",
        "\n"
      ],
      "execution_count": 47,
      "outputs": [
        {
          "output_type": "display_data",
          "data": {
            "image/png": "[encoded data removed]",
            "text/plain": [
              "<Figure size 432x288 with 1 Axes>"
            ]
          },
          "metadata": {
            "tags": [],
            "needs_background": "light"
          }
        }
      ]
    },
    {
      "cell_type": "code",
      "metadata": {
        "id": "2fVpwJv0cn5I",
        "colab_type": "code",
        "colab": {
          "base_uri": "https://localhost:8080/",
          "height": 35
        },
        "outputId": "3b688319-6d67-4f9d-c8b0-1b72d7590bc9"
      },
      "source": [
        "\n",
        "input_url = \"\thttps://kingsbagbd.net/wp-content/uploads/2015/04/MARKET/MARKET/\"\n",
        "integerencoding = [[printable.index(i) + 1 for i in input_url if i in printable]]\n",
        "max_len=200\n",
        "X = sequence.pad_sequences(integerencoding, maxlen=len_of_url)\n",
        "prob = model2.predict(X, batch_size=1)\n",
        "def result(x):\n",
        "    if x > 0.5:\n",
        "        return \"malicious\"\n",
        "    else:\n",
        "        return \"benign\"\n",
        "print(\"Test URL:\", url, \"is\", print_result(prob[0]))\n",
        "\n"
      ],
      "execution_count": 53,
      "outputs": [
        {
          "output_type": "stream",
          "text": [
            "Test URL: \thttps://kingsbagbd.net/wp-content/uploads/2015/04/MARKET/MARKET/ is malicious\n"
          ],
          "name": "stdout"
        }
      ]
    },
    {
      "cell_type": "code",
      "metadata": {
        "id": "mKuCqFWMjDSg",
        "colab_type": "code",
        "colab": {}
      },
      "source": [
        ""
      ],
      "execution_count": null,
      "outputs": []
    },
    {
      "cell_type": "code",
      "metadata": {
        "id": "jqOhEOrfiBAA",
        "colab_type": "code",
        "colab": {}
      },
      "source": [
        ""
      ],
      "execution_count": null,
      "outputs": []
    }
  ]
}